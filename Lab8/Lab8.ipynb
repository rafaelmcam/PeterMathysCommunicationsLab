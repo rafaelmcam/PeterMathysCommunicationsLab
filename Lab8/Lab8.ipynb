{
 "cells": [
  {
   "cell_type": "markdown",
   "id": "6ec68e41-661b-4ec2-aad0-b3509cf7cfa1",
   "metadata": {
    "tags": []
   },
   "source": [
    "# <b> Laboratório 8\n",
    "\n",
    "Aluno: Rafael Mendes Campello\n",
    "\n",
    "Referência: https://ecee.colorado.edu/~mathys/ecen4652/lab08/"
   ]
  },
  {
   "cell_type": "code",
   "execution_count": 3,
   "id": "a5087488-3540-4485-8623-fccf5928f1aa",
   "metadata": {},
   "outputs": [
    {
     "data": {
      "text/plain": [
       "<module 'ModuleLab8' from '/home/rcampello/Main/3m/Simulação de sistemas de comunicação/Labs/Lab8/ModuleLab8.py'>"
      ]
     },
     "execution_count": 3,
     "metadata": {},
     "output_type": "execute_result"
    }
   ],
   "source": [
    "%matplotlib inline\n",
    "import matplotlib.pyplot as plt\n",
    "import numpy as np\n",
    "from importlib import reload\n",
    "from Resources import comsig\n",
    "import bisect\n",
    "import ModuleLab1\n",
    "import ModuleLab2\n",
    "import ModuleLab4\n",
    "import ModuleLab5\n",
    "import ModuleLab6\n",
    "import ModuleLab7\n",
    "import ModuleLab8\n",
    "reload(ModuleLab1)\n",
    "reload(ModuleLab2)\n",
    "reload(ModuleLab4)\n",
    "reload(ModuleLab5)\n",
    "reload(ModuleLab6)\n",
    "reload(ModuleLab7)\n",
    "reload(ModuleLab8)"
   ]
  },
  {
   "cell_type": "markdown",
   "id": "797e68ea-70fa-4f34-9659-97a4c8fb9a70",
   "metadata": {},
   "source": [
    "# E1"
   ]
  },
  {
   "cell_type": "markdown",
   "id": "ef99ab87-5967-454a-b16d-f10479519be2",
   "metadata": {},
   "source": [
    "## a"
   ]
  },
  {
   "cell_type": "markdown",
   "id": "05134c49-4324-48f4-a2ee-d2ebd1e7f36a",
   "metadata": {},
   "source": [
    "Implementação e teste conforme sugerido."
   ]
  },
  {
   "cell_type": "code",
   "execution_count": 16,
   "id": "f965aff4-6354-4763-bbd2-bb734c1ac45f",
   "metadata": {},
   "outputs": [
    {
     "data": {
      "text/plain": [
       "<module 'ModuleLab8' from '/home/rcampello/Main/3m/Simulação de sistemas de comunicação/Labs/Lab8/ModuleLab8.py'>"
      ]
     },
     "execution_count": 16,
     "metadata": {},
     "output_type": "execute_result"
    }
   ],
   "source": [
    "reload(ModuleLab8)"
   ]
  },
  {
   "cell_type": "code",
   "execution_count": 31,
   "id": "c1ea06bc-f9bc-4b1c-84f5-62ca15da9588",
   "metadata": {},
   "outputs": [],
   "source": [
    "Fs = 44100\n",
    "FB = 100\n",
    "fc = 300\n",
    "sig_an = comsig.sigSequ(np.random.randint(0, 2, 10), FB)"
   ]
  },
  {
   "cell_type": "markdown",
   "id": "1de6dd0c-1e68-4735-afe4-bbe7e543b4de",
   "metadata": {},
   "source": [
    "Para a transmissão coerente:"
   ]
  },
  {
   "cell_type": "code",
   "execution_count": 32,
   "id": "6793c771-ba2d-4540-9dcd-d3aa5b56288b",
   "metadata": {},
   "outputs": [],
   "source": [
    "sig_xt, sig_st = ModuleLab8.askxmtr(sig_an, Fs, 'rect', [], 'coh', [fc, 0])"
   ]
  },
  {
   "cell_type": "code",
   "execution_count": 33,
   "id": "9c5f8f0d-d360-4760-ad4c-01d737e512a3",
   "metadata": {},
   "outputs": [
    {
     "data": {
      "text/plain": [
       "[<matplotlib.lines.Line2D at 0x7f47922f5b80>]"
      ]
     },
     "execution_count": 33,
     "metadata": {},
     "output_type": "execute_result"
    },
    {
     "data": {
      "image/png": "[encoded data removed]",
      "text/plain": [
       "<Figure size 432x288 with 1 Axes>"
      ]
     },
     "metadata": {
      "needs_background": "light"
     },
     "output_type": "display_data"
    }
   ],
   "source": [
    "plt.ylim([-2, 2])\n",
    "plt.grid()\n",
    "plt.plot(sig_xt.timeAxis(), sig_xt.signal())"
   ]
  },
  {
   "cell_type": "markdown",
   "id": "53b38bc5-5b3d-4974-aa0e-fcc93479fa36",
   "metadata": {},
   "source": [
    "Para a transmissão não-coerente:"
   ]
  },
  {
   "cell_type": "code",
   "execution_count": null,
   "id": "bef91a01-7787-464b-af31-f75d1c08cc5c",
   "metadata": {},
   "outputs": [],
   "source": [
    "sig_xt, sig_st = ModuleLab8.askxmtr(sig_an, Fs, 'rect', [], 'noncoh', [fc])\n",
    "plt.ylim([-2, 2])\n",
    "plt.grid()\n",
    "plt.plot(sig_xt.timeAxis(), sig_xt.signal())"
   ]
  }
 ],
 "metadata": {
  "kernelspec": {
   "display_name": "Python 3 (ipykernel)",
   "language": "python",
   "name": "python3"
  },
  "language_info": {
   "codemirror_mode": {
    "name": "ipython",
    "version": 3
   },
   "file_extension": ".py",
   "mimetype": "text/x-python",
   "name": "python",
   "nbconvert_exporter": "python",
   "pygments_lexer": "ipython3",
   "version": "3.9.5"
  }
 },
 "nbformat": 4,
 "nbformat_minor": 5
}
