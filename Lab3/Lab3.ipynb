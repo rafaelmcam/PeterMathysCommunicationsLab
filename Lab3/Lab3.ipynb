{
 "cells": [
  {
   "cell_type": "markdown",
   "id": "touched-circle",
   "metadata": {},
   "source": [
    "# <b> Laboratório 3\n",
    "\n",
    "Aluno: Rafael Mendes Campello\n",
    "\n",
    "Referência: https://ecee.colorado.edu/~mathys/ecen4652/lab03/"
   ]
  },
  {
   "cell_type": "code",
   "execution_count": 1,
   "id": "atmospheric-airplane",
   "metadata": {},
   "outputs": [],
   "source": [
    "%matplotlib inline\n",
    "import matplotlib.pyplot as plt\n",
    "import numpy as np\n",
    "from importlib import reload"
   ]
  },
  {
   "cell_type": "markdown",
   "id": "viral-picnic",
   "metadata": {},
   "source": [
    "# E1"
   ]
  },
  {
   "cell_type": "markdown",
   "id": "concerned-request",
   "metadata": {},
   "source": [
    "## a"
   ]
  },
  {
   "cell_type": "markdown",
   "id": "engaged-correspondence",
   "metadata": {},
   "source": [
    "Instalação do GNU Radio"
   ]
  },
  {
   "cell_type": "markdown",
   "id": "orange-grounds",
   "metadata": {},
   "source": [
    "## b"
   ]
  },
  {
   "cell_type": "markdown",
   "id": "heavy-generator",
   "metadata": {},
   "source": [
    "Arquivo: $\\texttt{E1-B.grc}$\n",
    "\n",
    "A multiplicação das formas de onda comporta-se como esperado: são criadas faixas nas frequências f1+f2 e f1-f2 (modulação), bem como para as outras formas de onda.\n",
    "\n",
    "A adição também comporta-se como esperado: a linearidade da transformada faz com que o espectro mostre faixas em f1 e f2.\n",
    "\n",
    "\n",
    "\n",
    "<img src=\"Prints/E1-B_1.png\">\n",
    "\n",
    "<img src=\"Prints/E1-B_2.png\">"
   ]
  },
  {
   "cell_type": "markdown",
   "id": "declared-print",
   "metadata": {},
   "source": [
    "## c"
   ]
  },
  {
   "cell_type": "markdown",
   "id": "wrong-problem",
   "metadata": {},
   "source": [
    "Arquivo: $\\texttt{E1-C.grc}$\n",
    "\n",
    "Comparação do espectro entre formas de onda: cosseno, retangular, triangular vs saw tooth.\n",
    "\n",
    "\n",
    "<font color = \"blue\"> Cosseno vs Saw Tooth:\n",
    "    \n",
    "O cosseno possui exclusivamente dois impulsos (f0 e -f0), enquanto que a saw tooth possui em todos os múltiplos de f0, incluindo uma componente DC. O espectro da onda saw tooth decai com o aumento da frequência, mas a comparação deve ser feita com as outras formas de onda, pois o cosseno só possui dois impulsos\n",
    "    \n",
    "<font color = \"blue\"> Retangular vs Saw Tooth:\n",
    "    \n",
    "A onda retangular possui componentes DC + componentes f0, 3f0, 5f0 (múltiplos impáres de f0, mais as correspondentes frequências negativas), e como visto anteriormente a saw tooth possui a componente DC + todos os múltiplos de f0.\n",
    "    \n",
    "A velocidade de decaimento de energia espectral é maior para a onda saw tooth. O espectro da onda retangular possui picos de maior energia nas frequências comuns a ambas.\n",
    "    \n",
    "<font color = \"blue\"> Triangular vs Saw Tooth:\n",
    "    \n",
    "A onda triangular possui mesmas componentes que a retangular, no entanto dessa vez o decaimento da onda saw tooth é mais lento. O espectro da onda triangular possui picos de menor energia nas frequências comuns a ambas.\n",
    "    \n",
    "    \n",
    "<img src=\"Prints/E1-C_1.png\">\n",
    "\n",
    "<img src=\"Prints/E1-C_2.png\">"
   ]
  },
  {
   "cell_type": "markdown",
   "id": "weighted-small",
   "metadata": {},
   "source": [
    "# E2"
   ]
  },
  {
   "cell_type": "markdown",
   "id": "chinese-injury",
   "metadata": {},
   "source": [
    "## a"
   ]
  },
  {
   "cell_type": "markdown",
   "id": "combined-honor",
   "metadata": {},
   "source": [
    "Arquivo: $\\texttt{E2-A.grc}$\n",
    "\n",
    "Para todos os valores de $\\tau$ temos uma queda mais acelerada da energia do sinal no espectro para o sinal seno truncado, a transição mais gradual faz com que o espectro seja mais concentrado nas frequências baixas do que a correspondente onda retangular. Além disso, a posição dos picos do sinal seno truncado acontece nas posições de zero do sinal retangular (e vice-versa).\n",
    "\n",
    "Com o aumento de $\\tau$, o intervalo entre os picos no espectro de ambos os sinais tem espaçamento reduzido, os picos são mais estreitos: por exemplo, com o aumento de $\\tau$ o pico central concentra um módulo maior e fica mais estreito. Este efeito é esperado, já que a contribuição dos senos de menor frequência são maiores quando a a forma de onda varia mais gradualmente.\n",
    "\n",
    "\n",
    "<img src=\"Prints/E2-A_1.png\">\n",
    "\n",
    "<img src=\"Prints/E2-A_2.png\">"
   ]
  },
  {
   "cell_type": "markdown",
   "id": "removed-costa",
   "metadata": {},
   "source": [
    "## b"
   ]
  },
  {
   "cell_type": "markdown",
   "id": "extraordinary-attendance",
   "metadata": {},
   "source": [
    "Arquivo: $\\texttt{E2-B.grc}$\n",
    "\n",
    "Utiliza-se multiplicação por sinais $e^{j \\phi}$ para alterar a fase do sinal original, e pegamos a parte real dos sinais complexos para o plot. $\\phi = \\frac{4\\pi}{6}$.\n",
    "\n",
    "\n",
    "Sinal original: $\\Re(e^{j2 \\pi f_0 t})$\n",
    "\n",
    "Shift 120$^{\\circ}$: $\\Re(e^{j2 \\pi f_0 t} e^{j \\phi})$\n",
    "\n",
    "Shift 240$^{\\circ}$: $\\Re(e^{j2 \\pi f_0 t} e^{j 2\\phi})$\n",
    "\n",
    "<font color=\"blue\"> Screenshots requeridas pelo exercício:\n",
    "\n",
    "<img src=\"Prints/E2-B_1.png\">\n",
    "\n",
    "<img src=\"Prints/E2-B_2.png\">"
   ]
  },
  {
   "cell_type": "markdown",
   "id": "written-cooking",
   "metadata": {},
   "source": [
    "## c"
   ]
  },
  {
   "cell_type": "markdown",
   "id": "north-blanket",
   "metadata": {},
   "source": [
    "Arquivo: $\\texttt{E2-C.grc}$\n",
    "\n",
    "Implementa-se a função $\\texttt{pampt}$ no módulo $\\texttt{ptfun}$ de maneira análoga ao feito no Lab2 para os três pulsos $p(t)$, com a diferença que o eixo do tempo é dado em função do parâmetro $\\texttt{sps}$ (samples per symbol).\n",
    "\n",
    "\n",
    "\n",
    "<img src=\"Prints/E2-C_1.png\">\n",
    "\n",
    "<img src=\"Prints/E2-C_2.png\">\n",
    "\n",
    "<img src=\"Prints/E2-C_3.png\">\n",
    "\n",
    "\n",
    "<b> <font color=\"blue\"> O parâmetro $k$ foi alterado para 8 exclusivamente no plot do pulso $p(t)$ \"sinc\" para melhor visualização.\n",
    "<img src=\"Prints/E2-C_4.png\">"
   ]
  },
  {
   "cell_type": "markdown",
   "id": "characteristic-album",
   "metadata": {},
   "source": [
    "# E3"
   ]
  },
  {
   "cell_type": "markdown",
   "id": "experimental-athletics",
   "metadata": {},
   "source": [
    "## a"
   ]
  },
  {
   "cell_type": "markdown",
   "id": "outstanding-chester",
   "metadata": {},
   "source": [
    "Como o filtro é FIR, podemos analisar sua resposta ao impulso. Criamos um sinal de entrada composto por uma única amostra positiva (o delta) e todas as outras preenchidas com zero. Conforme figura abaixo, o resultado é conforme o esperado, já que temos um sinal próximo ao sinc na resposta no tempo e um filtro passa-baixa na resposta em frequência.\n",
    "\n",
    "\n",
    "Sabemos que a ordem do filtro depende dos parâmetros escolhidos (faixa de transição, tipo de janela, beta, etc), de forma que para uma faixa de transição mais estreita precisamos de um filtro de maior ordem. Para ter o valor exato uma possibilidade é checar a documentação oficial [FIRDES](https://www.gnuradio.org/doc/doxygen/classgr_1_1filter_1_1firdes.html) e [FIRFILTER](https://www.gnuradio.org/doc/doxygen/classgr_1_1filter_1_1fir__filter__blk.html) para ver o número de taps que é criado. Também podemos ir diretamente no código e ver a quantidade de taps geradas e considerar que a ordem de um filtro FIR é $N_{taps} - 1$.\n",
    "\n",
    "Por exemplo, utilizando a janela de Hamming, beta = 6.76, faixa de transição de 500Hz, sample rate 32k temos um filtro de ordem 154.\n",
    "\n",
    "<img src=\"Prints/E3-A_1.png\">\n",
    "\n",
    "<img src=\"Prints/E3-A_2.png\">\n",
    "\n",
    "<img src=\"Prints/E3-A_3.png\">\n",
    "\n",
    "<img src=\"Prints/E3-A_4.png\">"
   ]
  },
  {
   "cell_type": "markdown",
   "id": "impressed-minneapolis",
   "metadata": {},
   "source": [
    "## B"
   ]
  },
  {
   "cell_type": "markdown",
   "id": "blessed-cuisine",
   "metadata": {},
   "source": [
    "Para facilidade de implementação, podemos escrever uma função em python que recebe os argumentos $Fs, f_1$ e $\\textit{duty_cycle}$ e retorna o vetor desejado, então usamos o bloco $\\texttt{Vector Source}$.\n",
    "\n",
    "\n",
    "<img src=\"Prints/E3-B_1.png\">\n",
    "\n",
    "<img src=\"Prints/E3-B_2.png\">\n",
    "\n",
    "<img src=\"Prints/E3-B_3.png\">\n",
    "\n",
    "<img src=\"Prints/E3-B_4.png\">"
   ]
  },
  {
   "cell_type": "markdown",
   "id": "mechanical-weight",
   "metadata": {},
   "source": [
    "## C"
   ]
  },
  {
   "cell_type": "markdown",
   "id": "helpful-democrat",
   "metadata": {},
   "source": [
    "Fazemos o mesmo procedimento que a letra b, criamos a função em python e importamos dentro do $\\texttt{GNURadio-companion}$. A função desejada pode ser divida em 4 partes: no primeiro quarto do período temos um segmento linear com coeficiente angular -1, então uma queda de amplitude 1, depois outro quarto com um segmento de coeficiente angular -1. Os dois últimos quartos são uma reflexão dos dois primeiros, os coeficientes angulares usados são 1.\n",
    "\n",
    "\n",
    "<img src=\"Prints/E3-C_1.png\">\n",
    "\n",
    "<img src=\"Prints/E3-C_2.png\">\n",
    "\n",
    "<img src=\"Prints/E3-C_3.png\">"
   ]
  },
  {
   "cell_type": "markdown",
   "id": "above-identifier",
   "metadata": {},
   "source": [
    "<font color = \"blue\"> Obs:\n",
    "    \n",
    "Como a questão pede que usemos sample_rate = 32kHz, caso a frequência do sinal seja aumentado de 1kHz para 4kHz, teríamos que descrever esta forma de onda usando apenas 8 pontos igualmente espaçados, o que provoca distorções no sinal (as transições abruptas do sinal original impedem que a forma de onda seja perfeitamente descrita com 8 pontos igualmente espaçados, existem faixas de frequência altas para o sinal original, a taxa de amostragem de 32kHz não é suficiente para representar o sinal, na verdade, tecnicamente seria necessário uma taxa de amostragem infinita). Para frequências mais altas é recomendável que a frequência de amostragem seja aumentada para evitar aliasing e ter um sinal sem distorções perceptíveis.\n",
    "\n",
    "<font color = \"blue\"> Obs2:\n",
    "    \n",
    "Também estou usando a simplificação de considerar (size // 4 - divisão inteira) para cada uma das 4 partes do sinal, para uma sinal em que $\\frac{f_s}{f_1}$ não seja divisível por 4, precisaríamos definir a forma de onda por meio da definição de vários períodos."
   ]
  },
  {
   "cell_type": "code",
   "execution_count": null,
   "id": "republican-thomson",
   "metadata": {},
   "outputs": [],
   "source": []
  }
 ],
 "metadata": {
  "kernelspec": {
   "display_name": "Python 3",
   "language": "python",
   "name": "python3"
  },
  "language_info": {
   "codemirror_mode": {
    "name": "ipython",
    "version": 3
   },
   "file_extension": ".py",
   "mimetype": "text/x-python",
   "name": "python",
   "nbconvert_exporter": "python",
   "pygments_lexer": "ipython3",
   "version": "3.7.7"
  }
 },
 "nbformat": 4,
 "nbformat_minor": 5
}
